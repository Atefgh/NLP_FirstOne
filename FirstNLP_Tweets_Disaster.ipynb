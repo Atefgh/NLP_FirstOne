{
  "nbformat": 4,
  "nbformat_minor": 0,
  "metadata": {
    "colab": {
      "name": "FirstNLP_Tweets_Disaster.ipynb",
      "provenance": []
    },
    "kernelspec": {
      "name": "python3",
      "display_name": "Python 3"
    },
    "accelerator": "GPU"
  },
  "cells": [
    {
      "cell_type": "code",
      "metadata": {
        "id": "MxhpUoHqQkVN",
        "colab_type": "code",
        "colab": {
          "base_uri": "https://localhost:8080/",
          "height": 122
        },
        "outputId": "a39d357e-1110-430d-c683-7b0daa77133d"
      },
      "source": [
        "from google.colab import drive\n",
        "drive.mount('/content/gdrive')"
      ],
      "execution_count": 11,
      "outputs": [
        {
          "output_type": "stream",
          "text": [
            "Go to this URL in a browser: https://accounts.google.com/o/oauth2/auth?client_id=947318989803-6bn6qk8qdgf4n4g3pfee6491hc0brc4i.apps.googleusercontent.com&redirect_uri=urn%3aietf%3awg%3aoauth%3a2.0%3aoob&response_type=code&scope=email%20https%3a%2f%2fwww.googleapis.com%2fauth%2fdocs.test%20https%3a%2f%2fwww.googleapis.com%2fauth%2fdrive%20https%3a%2f%2fwww.googleapis.com%2fauth%2fdrive.photos.readonly%20https%3a%2f%2fwww.googleapis.com%2fauth%2fpeopleapi.readonly\n",
            "\n",
            "Enter your authorization code:\n",
            "··········\n",
            "Mounted at /content/gdrive\n"
          ],
          "name": "stdout"
        }
      ]
    },
    {
      "cell_type": "code",
      "metadata": {
        "id": "tgHqX_X_RsW_",
        "colab_type": "code",
        "colab": {}
      },
      "source": [
        "!cd \"/content/gdrive/My Drive/\""
      ],
      "execution_count": 0,
      "outputs": []
    },
    {
      "cell_type": "code",
      "metadata": {
        "id": "XyOX38IaRx9Y",
        "colab_type": "code",
        "colab": {
          "base_uri": "https://localhost:8080/",
          "height": 595
        },
        "outputId": "d91b33ed-8e17-4835-e650-caca5e3d9b4b"
      },
      "source": [
        "!ls \"/content/gdrive/My Drive/\""
      ],
      "execution_count": 13,
      "outputs": [
        {
          "output_type": "stream",
          "text": [
            "'41078792_2272142149731635_5511588839258324992_n(1).jpg'\n",
            "'Album photo.gslides'\n",
            " cat\n",
            "'Colab Notebooks'\n",
            "'DeepLearning (1).ipynb'\n",
            " DeepLearning.ipynb\n",
            " Digits.ipynb\n",
            " dog\n",
            "'Dog&Cat.ipynb'\n",
            " eniso-server-master.zip\n",
            "'eniso tr'\n",
            "'Formulaire sans titre.gform'\n",
            " nlp-getting-started\n",
            "'Nouveau document RTF.rtf'\n",
            "'PROJET SEMESTRIEL.rar'\n",
            " received_730462934089642.jpeg\n",
            " RecognitionProject.ipynb\n",
            " Retinopathie.ipynb\n",
            " sample_submission.csv\n",
            "'sampleSubmission.csv (1)'\n",
            "'smarteniso copie.eps'\n",
            " smarteniso.eps\n",
            "'test1 (1)'\n",
            " test.csv\n",
            " train\n",
            " train.csv\n",
            "'trainLabels.csv (1)'\n",
            " Untitled0.ipynb\n",
            " Untitled1.ipynb\n",
            " Untitled2.ipynb\n",
            " Untitled3.ipynb\n",
            " Untitled4.ipynb\n",
            " Untitled5.ipynb\n",
            " Untitled6.ipynb\n"
          ],
          "name": "stdout"
        }
      ]
    },
    {
      "cell_type": "code",
      "metadata": {
        "id": "2OAYv7FiSXlg",
        "colab_type": "code",
        "colab": {}
      },
      "source": [
        "import pandas as pd\n"
      ],
      "execution_count": 0,
      "outputs": []
    },
    {
      "cell_type": "code",
      "metadata": {
        "id": "ccN_KiP4SBFC",
        "colab_type": "code",
        "colab": {
          "base_uri": "https://localhost:8080/",
          "height": 204
        },
        "outputId": "69b4e976-7b6e-456f-82ae-278df83f9737"
      },
      "source": [
        "train = pd.read_csv(\"/content/gdrive/My Drive/nlp-getting-started/train.csv\")\n",
        "test = pd.read_csv(\"/content/gdrive/My Drive/nlp-getting-started/test.csv\")\n",
        "train.head()"
      ],
      "execution_count": 15,
      "outputs": [
        {
          "output_type": "execute_result",
          "data": {
            "text/html": [
              "<div>\n",
              "<style scoped>\n",
              "    .dataframe tbody tr th:only-of-type {\n",
              "        vertical-align: middle;\n",
              "    }\n",
              "\n",
              "    .dataframe tbody tr th {\n",
              "        vertical-align: top;\n",
              "    }\n",
              "\n",
              "    .dataframe thead th {\n",
              "        text-align: right;\n",
              "    }\n",
              "</style>\n",
              "<table border=\"1\" class=\"dataframe\">\n",
              "  <thead>\n",
              "    <tr style=\"text-align: right;\">\n",
              "      <th></th>\n",
              "      <th>id</th>\n",
              "      <th>keyword</th>\n",
              "      <th>location</th>\n",
              "      <th>text</th>\n",
              "      <th>target</th>\n",
              "    </tr>\n",
              "  </thead>\n",
              "  <tbody>\n",
              "    <tr>\n",
              "      <th>0</th>\n",
              "      <td>1</td>\n",
              "      <td>NaN</td>\n",
              "      <td>NaN</td>\n",
              "      <td>Our Deeds are the Reason of this #earthquake M...</td>\n",
              "      <td>1</td>\n",
              "    </tr>\n",
              "    <tr>\n",
              "      <th>1</th>\n",
              "      <td>4</td>\n",
              "      <td>NaN</td>\n",
              "      <td>NaN</td>\n",
              "      <td>Forest fire near La Ronge Sask. Canada</td>\n",
              "      <td>1</td>\n",
              "    </tr>\n",
              "    <tr>\n",
              "      <th>2</th>\n",
              "      <td>5</td>\n",
              "      <td>NaN</td>\n",
              "      <td>NaN</td>\n",
              "      <td>All residents asked to 'shelter in place' are ...</td>\n",
              "      <td>1</td>\n",
              "    </tr>\n",
              "    <tr>\n",
              "      <th>3</th>\n",
              "      <td>6</td>\n",
              "      <td>NaN</td>\n",
              "      <td>NaN</td>\n",
              "      <td>13,000 people receive #wildfires evacuation or...</td>\n",
              "      <td>1</td>\n",
              "    </tr>\n",
              "    <tr>\n",
              "      <th>4</th>\n",
              "      <td>7</td>\n",
              "      <td>NaN</td>\n",
              "      <td>NaN</td>\n",
              "      <td>Just got sent this photo from Ruby #Alaska as ...</td>\n",
              "      <td>1</td>\n",
              "    </tr>\n",
              "  </tbody>\n",
              "</table>\n",
              "</div>"
            ],
            "text/plain": [
              "   id keyword  ...                                               text target\n",
              "0   1     NaN  ...  Our Deeds are the Reason of this #earthquake M...      1\n",
              "1   4     NaN  ...             Forest fire near La Ronge Sask. Canada      1\n",
              "2   5     NaN  ...  All residents asked to 'shelter in place' are ...      1\n",
              "3   6     NaN  ...  13,000 people receive #wildfires evacuation or...      1\n",
              "4   7     NaN  ...  Just got sent this photo from Ruby #Alaska as ...      1\n",
              "\n",
              "[5 rows x 5 columns]"
            ]
          },
          "metadata": {
            "tags": []
          },
          "execution_count": 15
        }
      ]
    },
    {
      "cell_type": "code",
      "metadata": {
        "id": "n8Q5OZDgScP5",
        "colab_type": "code",
        "colab": {}
      },
      "source": [
        "import re\n",
        "from nltk.tokenize import WordPunctTokenizer\n",
        "\n",
        "tokenizer = WordPunctTokenizer()\n",
        "\n",
        "def clean_text(text):\n",
        "    text = text.lower()\n",
        "    text = re.sub(r'\\b(?:(?:https?|ftp)://)?\\w[\\w-]*(?:\\.[\\w-]+)+\\S*', ' ', text)\n",
        "    text = ' '.join(tokenizer.tokenize(text))\n",
        "    return text\n",
        "\n",
        "train_prep = train.text.apply(lambda x: clean_text(x))\n",
        "test_prep = test.text.apply(lambda x: clean_text(x))\n",
        "train['text_prep'] = train_prep\n",
        "test['text_prep'] = test_prep"
      ],
      "execution_count": 0,
      "outputs": []
    },
    {
      "cell_type": "code",
      "metadata": {
        "id": "6Y6dui96T48H",
        "colab_type": "code",
        "colab": {
          "base_uri": "https://localhost:8080/",
          "height": 51
        },
        "outputId": "5d5a4747-85c8-49b5-8417-df748a05a9d7"
      },
      "source": [
        "  import spacy.cli\n",
        "  spacy.cli.download(\"en_core_web_lg\")"
      ],
      "execution_count": 17,
      "outputs": [
        {
          "output_type": "stream",
          "text": [
            "\u001b[38;5;2m✔ Download and installation successful\u001b[0m\n",
            "You can now load the model via spacy.load('en_core_web_lg')\n"
          ],
          "name": "stdout"
        }
      ]
    },
    {
      "cell_type": "code",
      "metadata": {
        "id": "XlkyRlUDSjP5",
        "colab_type": "code",
        "colab": {}
      },
      "source": [
        "import spacy\n",
        "nlp = spacy.load(\"en_core_web_lg\")\n"
      ],
      "execution_count": 0,
      "outputs": []
    },
    {
      "cell_type": "code",
      "metadata": {
        "id": "g3yRrgnAU46N",
        "colab_type": "code",
        "colab": {
          "base_uri": "https://localhost:8080/",
          "height": 34
        },
        "outputId": "e4316858-7377-40f1-f440-8c861f6012b3"
      },
      "source": [
        "import numpy as np\n",
        "\n",
        "with nlp.disable_pipes():\n",
        "    train_vectors = np.array([nlp(text).vector for text in train.text_prep])\n",
        "    test_vectors = np.array([nlp(text).vector for text in test.text_prep])\n",
        "\n",
        "print(train_vectors.shape, test_vectors.shape)"
      ],
      "execution_count": 19,
      "outputs": [
        {
          "output_type": "stream",
          "text": [
            "(7613, 300) (3263, 300)\n"
          ],
          "name": "stdout"
        }
      ]
    },
    {
      "cell_type": "code",
      "metadata": {
        "id": "LjRJ1EU0WjA9",
        "colab_type": "code",
        "colab": {}
      },
      "source": [
        "from keras import initializers, regularizers, constraints\n",
        "from sklearn.model_selection import KFold, cross_val_score, train_test_split\n",
        "X_train = train_vectors\n",
        "y_train = train.target.to_numpy()\n",
        "\n",
        "train_x, test_x, train_y, test_y = train_test_split(X_train, y_train, test_size=0.2, random_state=13)"
      ],
      "execution_count": 0,
      "outputs": []
    },
    {
      "cell_type": "code",
      "metadata": {
        "id": "DbRDAkwoXBit",
        "colab_type": "code",
        "colab": {}
      },
      "source": [
        "from sklearn.ensemble import RandomForestClassifier, VotingClassifier, GradientBoostingClassifier, AdaBoostClassifier\n",
        "from sklearn.svm import SVC\n",
        "from sklearn.model_selection import GridSearchCV\n",
        "svc = SVC(kernel='rbf', C=60, probability=True, random_state=13)\n",
        "rfc = RandomForestClassifier(n_estimators=100, random_state=13)\n",
        "gbc = GradientBoostingClassifier(n_estimators=100, learning_rate=0.2, random_state=13)\n"
      ],
      "execution_count": 0,
      "outputs": []
    },
    {
      "cell_type": "code",
      "metadata": {
        "id": "7v15xyEPXGBp",
        "colab_type": "code",
        "colab": {
          "base_uri": "https://localhost:8080/",
          "height": 510
        },
        "outputId": "add29a98-2613-45a0-89a2-2b2791aa4ec6"
      },
      "source": [
        "vcf = VotingClassifier(estimators=[('svc', svc), ('rfc', rfc), ('gbc', gbc)], voting='soft')\n",
        "vcf.fit(X_train, y_train)"
      ],
      "execution_count": 24,
      "outputs": [
        {
          "output_type": "execute_result",
          "data": {
            "text/plain": [
              "VotingClassifier(estimators=[('svc',\n",
              "                              SVC(C=60, break_ties=False, cache_size=200,\n",
              "                                  class_weight=None, coef0=0.0,\n",
              "                                  decision_function_shape='ovr', degree=3,\n",
              "                                  gamma='scale', kernel='rbf', max_iter=-1,\n",
              "                                  probability=True, random_state=13,\n",
              "                                  shrinking=True, tol=0.001, verbose=False)),\n",
              "                             ('rfc',\n",
              "                              RandomForestClassifier(bootstrap=True,\n",
              "                                                     ccp_alpha=0.0,\n",
              "                                                     class_weight=None,\n",
              "                                                     criterion='gini'...\n",
              "                                                         max_leaf_nodes=None,\n",
              "                                                         min_impurity_decrease=0.0,\n",
              "                                                         min_impurity_split=None,\n",
              "                                                         min_samples_leaf=1,\n",
              "                                                         min_samples_split=2,\n",
              "                                                         min_weight_fraction_leaf=0.0,\n",
              "                                                         n_estimators=100,\n",
              "                                                         n_iter_no_change=None,\n",
              "                                                         presort='deprecated',\n",
              "                                                         random_state=13,\n",
              "                                                         subsample=1.0,\n",
              "                                                         tol=0.0001,\n",
              "                                                         validation_fraction=0.1,\n",
              "                                                         verbose=0,\n",
              "                                                         warm_start=False))],\n",
              "                 flatten_transform=True, n_jobs=None, voting='soft',\n",
              "                 weights=None)"
            ]
          },
          "metadata": {
            "tags": []
          },
          "execution_count": 24
        }
      ]
    },
    {
      "cell_type": "code",
      "metadata": {
        "id": "Dv-AzLaTX4oQ",
        "colab_type": "code",
        "colab": {
          "base_uri": "https://localhost:8080/",
          "height": 51
        },
        "outputId": "1be6c0a2-df04-4e91-8610-e0c1faf418e5"
      },
      "source": [
        "from sklearn.metrics import accuracy_score\n",
        "preds = vcf.predict(test_vectors)\n",
        "print(accuracy_score((vcf.predict(test_x)), test_y))\n",
        "print(len(test['id']), len(preds))"
      ],
      "execution_count": 26,
      "outputs": [
        {
          "output_type": "stream",
          "text": [
            "0.9763624425476034\n",
            "3263 3263\n"
          ],
          "name": "stdout"
        }
      ]
    },
    {
      "cell_type": "code",
      "metadata": {
        "id": "te25VC5dYKX6",
        "colab_type": "code",
        "colab": {}
      },
      "source": [
        "submission = pd.DataFrame(columns=['id', 'target'])\n",
        "submission['id'] = test['id']\n",
        "submission['target'] = preds\n",
        "submission.to_csv('submission.csv', index=False)"
      ],
      "execution_count": 0,
      "outputs": []
    }
  ]
}